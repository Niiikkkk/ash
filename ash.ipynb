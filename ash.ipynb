{
  "nbformat": 4,
  "nbformat_minor": 0,
  "metadata": {
    "colab": {
      "provenance": [],
      "authorship_tag": "ABX9TyMGPSqSsg9jV+UNgE7WPZnD",
      "include_colab_link": true
    },
    "kernelspec": {
      "name": "python3",
      "display_name": "Python 3"
    },
    "language_info": {
      "name": "python"
    }
  },
  "cells": [
    {
      "cell_type": "markdown",
      "metadata": {
        "id": "view-in-github",
        "colab_type": "text"
      },
      "source": [
        "<a href=\"https://colab.research.google.com/github/nebojsa-bozanic/ash/blob/iclr/ash.ipynb\" target=\"_parent\"><img src=\"https://colab.research.google.com/assets/colab-badge.svg\" alt=\"Open In Colab\"/></a>"
      ]
    },
    {
      "cell_type": "code",
      "execution_count": 1,
      "metadata": {
        "colab": {
          "base_uri": "https://localhost:8080/"
        },
        "id": "Z6nnL0AzElHT",
        "outputId": "32630b79-a8ae-4b67-ffeb-83be183c8cde"
      },
      "outputs": [
        {
          "output_type": "stream",
          "name": "stdout",
          "text": [
            "Cloning into 'ash'...\n",
            "remote: Enumerating objects: 222, done.\u001b[K\n",
            "remote: Counting objects: 100% (222/222), done.\u001b[K\n",
            "remote: Compressing objects: 100% (147/147), done.\u001b[K\n",
            "remote: Total 222 (delta 112), reused 157 (delta 63), pack-reused 0\u001b[K\n",
            "Receiving objects: 100% (222/222), 2.63 MiB | 22.81 MiB/s, done.\n",
            "Resolving deltas: 100% (112/112), done.\n"
          ]
        }
      ],
      "source": [
        "!git clone https://github.com/andrijazz/ash.git"
      ]
    },
    {
      "cell_type": "code",
      "source": [
        "%cd ash"
      ],
      "metadata": {
        "colab": {
          "base_uri": "https://localhost:8080/"
        },
        "id": "1qG8m8RjAswd",
        "outputId": "068fe774-be8a-49f6-bc89-117e0526090f"
      },
      "execution_count": 2,
      "outputs": [
        {
          "output_type": "stream",
          "name": "stdout",
          "text": [
            "/content/ash\n"
          ]
        }
      ]
    },
    {
      "cell_type": "code",
      "source": [
        "# # create conda env and install dependencies\n",
        "# conda env create -f environment.yml\n",
        "# conda activate ash\n",
        "# # set environmental variables\n",
        "# export DATASETS=<your_path_to_datasets_folder>\n",
        "# export MODELS=<your_path_to_checkpoints_folder>\n",
        "# download datasets and checkpoints\n",
        "!bash scripts/download.sh"
      ],
      "metadata": {
        "id": "QaIwmalJG8pb",
        "colab": {
          "base_uri": "https://localhost:8080/"
        },
        "outputId": "a71f30db-6f0d-4e11-bf78-063e9537f4fe"
      },
      "execution_count": 3,
      "outputs": [
        {
          "output_type": "stream",
          "name": "stdout",
          "text": [
            "wget: missing URL\n",
            "Usage: wget [OPTION]... [URL]...\n",
            "\n",
            "Try `wget --help' for more options.\n",
            "wget: missing URL\n",
            "Usage: wget [OPTION]... [URL]...\n",
            "\n",
            "Try `wget --help' for more options.\n",
            "wget: missing URL\n",
            "Usage: wget [OPTION]... [URL]...\n",
            "\n",
            "Try `wget --help' for more options.\n",
            "wget: missing URL\n",
            "Usage: wget [OPTION]... [URL]...\n",
            "\n",
            "Try `wget --help' for more options.\n",
            "wget: missing URL\n",
            "Usage: wget [OPTION]... [URL]...\n",
            "\n",
            "Try `wget --help' for more options.\n",
            "wget: missing URL\n",
            "Usage: wget [OPTION]... [URL]...\n",
            "\n",
            "Try `wget --help' for more options.\n",
            "wget: missing URL\n",
            "Usage: wget [OPTION]... [URL]...\n",
            "\n",
            "Try `wget --help' for more options.\n",
            "wget: missing URL\n",
            "Usage: wget [OPTION]... [URL]...\n",
            "\n",
            "Try `wget --help' for more options.\n",
            "wget: missing URL\n",
            "Usage: wget [OPTION]... [URL]...\n",
            "\n",
            "Try `wget --help' for more options.\n",
            "wget: missing URL\n",
            "Usage: wget [OPTION]... [URL]...\n",
            "\n",
            "Try `wget --help' for more options.\n",
            "wget: missing URL\n",
            "Usage: wget [OPTION]... [URL]...\n",
            "\n",
            "Try `wget --help' for more options.\n",
            "wget: missing URL\n",
            "Usage: wget [OPTION]... [URL]...\n",
            "\n",
            "Try `wget --help' for more options.\n",
            "wget: missing URL\n",
            "Usage: wget [OPTION]... [URL]...\n",
            "\n",
            "Try `wget --help' for more options.\n",
            "wget: missing URL\n",
            "Usage: wget [OPTION]... [URL]...\n",
            "\n",
            "Try `wget --help' for more options.\n",
            "mkdir: invalid option -- 'P'\n",
            "Try 'mkdir --help' for more information.\n",
            "--2023-07-26 21:34:26--  http://ufldl.stanford.edu/housenumbers/test_32x32.mat\n",
            "Resolving ufldl.stanford.edu (ufldl.stanford.edu)... 171.64.68.10\n",
            "Connecting to ufldl.stanford.edu (ufldl.stanford.edu)|171.64.68.10|:80... connected.\n",
            "HTTP request sent, awaiting response... 200 OK\n",
            "Length: 64275384 (61M) [text/plain]\n",
            "Saving to: ‘/SVHN/test_32x32.mat’\n",
            "\n",
            "test_32x32.mat      100%[===================>]  61.30M  16.7MB/s    in 5.3s    \n",
            "\n",
            "2023-07-26 21:34:32 (11.7 MB/s) - ‘/SVHN/test_32x32.mat’ saved [64275384/64275384]\n",
            "\n",
            "--2023-07-26 21:34:32--  http://ufldl.stanford.edu/housenumbers/train_32x32.mat\n",
            "Resolving ufldl.stanford.edu (ufldl.stanford.edu)... 171.64.68.10\n",
            "Connecting to ufldl.stanford.edu (ufldl.stanford.edu)|171.64.68.10|:80... connected.\n",
            "HTTP request sent, awaiting response... 200 OK\n",
            "Length: 182040794 (174M) [text/plain]\n",
            "Saving to: ‘/SVHN/train_32x32.mat’\n",
            "\n",
            "train_32x32.mat     100%[===================>] 173.61M  38.7MB/s    in 8.4s    \n",
            "\n",
            "2023-07-26 21:34:41 (20.6 MB/s) - ‘/SVHN/train_32x32.mat’ saved [182040794/182040794]\n",
            "\n",
            "--2023-07-26 21:34:41--  http://ufldl.stanford.edu/housenumbers/extra_32x32.mat\n",
            "Resolving ufldl.stanford.edu (ufldl.stanford.edu)... 171.64.68.10\n",
            "Connecting to ufldl.stanford.edu (ufldl.stanford.edu)|171.64.68.10|:80... connected.\n",
            "HTTP request sent, awaiting response... 200 OK\n",
            "Length: 1329278602 (1.2G) [text/plain]\n",
            "Saving to: ‘/SVHN/extra_32x32.mat’\n",
            "\n",
            "extra_32x32.mat     100%[===================>]   1.24G  38.0MB/s    in 36s     \n",
            "\n",
            "2023-07-26 21:35:17 (35.2 MB/s) - ‘/SVHN/extra_32x32.mat’ saved [1329278602/1329278602]\n",
            "\n",
            "mkdir: invalid option -- 'P'\n",
            "Try 'mkdir --help' for more information.\n",
            "tar: option requires an argument -- 'C'\n",
            "Try 'tar --help' or 'tar --usage' for more information.\n",
            "tar: option requires an argument -- 'C'\n",
            "Try 'tar --help' or 'tar --usage' for more information.\n",
            "tar: option requires an argument -- 'C'\n",
            "Try 'tar --help' or 'tar --usage' for more information.\n",
            "tar: option requires an argument -- 'C'\n",
            "Try 'tar --help' or 'tar --usage' for more information.\n",
            "tar: option requires an argument -- 'C'\n",
            "Try 'tar --help' or 'tar --usage' for more information.\n",
            "tar: option requires an argument -- 'C'\n",
            "Try 'tar --help' or 'tar --usage' for more information.\n",
            "tar: option requires an argument -- 'C'\n",
            "Try 'tar --help' or 'tar --usage' for more information.\n",
            "tar: option requires an argument -- 'C'\n",
            "Try 'tar --help' or 'tar --usage' for more information.\n",
            "tar: option requires an argument -- 'C'\n",
            "Try 'tar --help' or 'tar --usage' for more information.\n",
            "tar: option requires an argument -- 'C'\n",
            "Try 'tar --help' or 'tar --usage' for more information.\n",
            "tar: option requires an argument -- 'C'\n",
            "Try 'tar --help' or 'tar --usage' for more information.\n",
            "tar: option requires an argument -- 'C'\n",
            "Try 'tar --help' or 'tar --usage' for more information.\n",
            "tar: /test_256.tar: Cannot open: No such file or directory\n",
            "tar: Error is not recoverable: exiting now\n",
            "wget: missing URL\n",
            "Usage: wget [OPTION]... [URL]...\n",
            "\n",
            "Try `wget --help' for more options.\n",
            "error:  must specify directory to which to extract with -d option\n"
          ]
        }
      ]
    },
    {
      "cell_type": "markdown",
      "source": [
        "Please download ImageNet dataset manually to $DATASET dir by following this instructions. https://gist.github.com/bonlime/4e0d236cf98cd5b15d977dfa03a63643"
      ],
      "metadata": {
        "id": "w-SQ3wpzHJy1"
      }
    },
    {
      "cell_type": "code",
      "source": [
        "!python ood_eval.py --config config/imagenet_config.yml --use-gpu --use-tqdm"
      ],
      "metadata": {
        "id": "zlrGSHlHG8Rk",
        "colab": {
          "base_uri": "https://localhost:8080/"
        },
        "outputId": "7a2202bd-9d38-49a6-9f5c-0230100e7b5a"
      },
      "execution_count": 4,
      "outputs": [
        {
          "output_type": "stream",
          "name": "stdout",
          "text": [
            "Traceback (most recent call last):\n",
            "  File \"/content/ash/ood_eval.py\", line 145, in <module>\n",
            "    ood_eval(config, args.use_gpu, args.use_tqdm)\n",
            "  File \"/content/ash/ood_eval.py\", line 117, in ood_eval\n",
            "    checkpoint = os.path.join(os.getenv('MODELS'), config['train_restore_file'])\n",
            "  File \"/usr/lib/python3.10/posixpath.py\", line 76, in join\n",
            "    a = os.fspath(a)\n",
            "TypeError: expected str, bytes or os.PathLike object, not NoneType\n"
          ]
        }
      ]
    }
  ]
}